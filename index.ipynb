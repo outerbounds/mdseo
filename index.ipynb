{
 "cells": [
  {
   "cell_type": "markdown",
   "id": "f74e414a-6447-489e-ba3d-ae4357c7fd1c",
   "metadata": {},
   "source": [
    "# mdseo\n",
    "\n",
    "> Analyze Markdown Documents Used In Static Sites For SEO\n"
   ]
  },
  {
   "cell_type": "markdown",
   "id": "9451daf9-f0ad-4b6b-8fac-1ab68e1c2d7a",
   "metadata": {},
   "source": [
    "[![CI](https://github.com/outerbounds/mdseo/actions/workflows/main.yml/badge.svg)](https://github.com/outerbounds/mdseo/actions/workflows/main.yml)\n",
    " [![](https://img.shields.io/pypi/v/nbdoc)](https://pypi.org/project/mdseo/)\n",
    "[![](https://img.shields.io/static/v1?label=fastai&message=nbdev&color=57aeac&labelColor=black&style=flat&logo=data:image/png;base64,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)](https://github.com/fastai/nbdev)\n",
    "\n",
    "## Table of Contents\n",
    "\n",
    "\n",
    "- [Installation](#installation)\n",
    "- [Usage](#usage)\n",
    "- [Ignoring Checks](#ignoring-checks)\n",
    "    - [With Front Matter](#with-front-matter)\n",
    "    - [With The Keyword `mdseo-ignore-all`](#with-the-keyword-mdseo-ignore-all)\n"
   ]
  },
  {
   "cell_type": "markdown",
   "id": "5137449d-bbf5-4ac2-ba6e-11b7bb49b22c",
   "metadata": {},
   "source": [
    "## Installation\n",
    "\n",
    "> pip install mdseo"
   ]
  },
  {
   "cell_type": "markdown",
   "id": "1dff66f9-8287-4acd-87ee-9b42f9010348",
   "metadata": {},
   "source": [
    "## Usage\n",
    "\n",
    "`mdseo` provides CLI tools to check various statistics and metadata in markdown files.  If an unwanted property is discovered, and error is raised.  An overview of the CLI tools are below:"
   ]
  },
  {
   "cell_type": "code",
   "execution_count": null,
   "id": "4c8f464b-5c41-466e-91b2-00ac270383f1",
   "metadata": {},
   "outputs": [
    {
     "name": "stdout",
     "output_type": "stream",
     "text": [
      "usage: mdseo_dupe_title [-h] [--srcdir SRCDIR]\n",
      "\n",
      "Check for duplicate titles. Ignore with front matter `mdseo-ignore:\n",
      "[dupe_title]`\n",
      "\n",
      "optional arguments:\n",
      "  -h, --help       show this help message and exit\n",
      "  --srcdir SRCDIR  directory of files to check (default: .)\n"
     ]
    }
   ],
   "source": [
    "!mdseo_dupe_title -h"
   ]
  },
  {
   "cell_type": "code",
   "execution_count": null,
   "id": "9802a378-2978-4fca-8ab8-eb14e2a070ed",
   "metadata": {},
   "outputs": [
    {
     "name": "stdout",
     "output_type": "stream",
     "text": [
      "usage: mdseo_img [-h] [--srcdir SRCDIR]\n",
      "\n",
      "Check if docs do not have the field `image` in their front matter. Ignore with\n",
      "front matter `mdseo-ignore: [image]`\n",
      "\n",
      "optional arguments:\n",
      "  -h, --help       show this help message and exit\n",
      "  --srcdir SRCDIR  directory of files to check (default: .)\n"
     ]
    }
   ],
   "source": [
    "!mdseo_img -h"
   ]
  },
  {
   "cell_type": "code",
   "execution_count": null,
   "id": "c157e7a1-ff36-4945-8fc7-92d63150b5dc",
   "metadata": {},
   "outputs": [
    {
     "name": "stdout",
     "output_type": "stream",
     "text": [
      "usage: mdseo_len [-h] [--srcdir SRCDIR] n\n",
      "\n",
      "Check if docs contain less than `n` words. Ignore with front matter `mdseo-\n",
      "ignore: [length]`\n",
      "\n",
      "positional arguments:\n",
      "  n                minimum number of words a document should contain\n",
      "\n",
      "optional arguments:\n",
      "  -h, --help       show this help message and exit\n",
      "  --srcdir SRCDIR  directory of files to check (default: .)\n"
     ]
    }
   ],
   "source": [
    "!mdseo_len -h"
   ]
  },
  {
   "cell_type": "code",
   "execution_count": null,
   "id": "dbcc6f57-c8dd-4a49-9f36-eb68859e21de",
   "metadata": {},
   "outputs": [
    {
     "name": "stdout",
     "output_type": "stream",
     "text": [
      "usage: mdseo_desc_len [-h] [--n_lower N_LOWER] [--n_upper N_UPPER]\n",
      "                      [--srcdir SRCDIR]\n",
      "\n",
      "Check if docs have a description that is not between `n_lower` and `n_upper`\n",
      "characters. Ignore with front matter `mdseo-ignore: [description]`\n",
      "\n",
      "optional arguments:\n",
      "  -h, --help         show this help message and exit\n",
      "  --n_lower N_LOWER  the lower bound number of characters a document should\n",
      "                     contain (default: 50)\n",
      "  --n_upper N_UPPER  the upper bound number of characters a document should\n",
      "                     contain (default: 300)\n",
      "  --srcdir SRCDIR    directory of files to check (default: .)\n"
     ]
    }
   ],
   "source": [
    "!mdseo_desc_len -h"
   ]
  },
  {
   "cell_type": "code",
   "execution_count": null,
   "id": "fde979e4-3b15-4f4e-b7d1-b73ff62b1286",
   "metadata": {},
   "outputs": [
    {
     "name": "stdout",
     "output_type": "stream",
     "text": [
      "usage: mdseo_slug [-h] [--srcdir SRCDIR]\n",
      "\n",
      "Check if docs do not have the field `slug` in their front matter. Ignore with\n",
      "front matter `mdseo-ignore: [slug]`\n",
      "\n",
      "optional arguments:\n",
      "  -h, --help       show this help message and exit\n",
      "  --srcdir SRCDIR  directory of files to check (default: .)\n"
     ]
    }
   ],
   "source": [
    "!mdseo_slug -h"
   ]
  },
  {
   "cell_type": "code",
   "execution_count": null,
   "id": "d3519503-d647-4880-bde4-f8ce4b833081",
   "metadata": {},
   "outputs": [
    {
     "name": "stdout",
     "output_type": "stream",
     "text": [
      "usage: mdseo_slug_len [-h] [--srcdir SRCDIR] [--n N]\n",
      "\n",
      "Check if docs have a `slug` field in their front matter that is less than `n`\n",
      "characters. Ignore with front matter `mdseo-ignore: [slug]`\n",
      "\n",
      "optional arguments:\n",
      "  -h, --help       show this help message and exit\n",
      "  --srcdir SRCDIR  directory of files to check (default: .)\n",
      "  --n N            max number of characters for slug (default: 45)\n"
     ]
    }
   ],
   "source": [
    "!mdseo_slug_len -h"
   ]
  },
  {
   "cell_type": "code",
   "execution_count": null,
   "id": "e573a509-0a82-42fc-a13e-4e17e1c05f9f",
   "metadata": {},
   "outputs": [
    {
     "name": "stdout",
     "output_type": "stream",
     "text": [
      "usage: mdseo_author [-h] [--srcdir SRCDIR]\n",
      "\n",
      "Check if docs do not have the field `authors` in their front matter. Ignore with\n",
      "front matter `mdseo-ignore: [authors]`\n",
      "\n",
      "optional arguments:\n",
      "  -h, --help       show this help message and exit\n",
      "  --srcdir SRCDIR  directory of files to check (default: .)\n"
     ]
    }
   ],
   "source": [
    "!mdseo_author -h"
   ]
  },
  {
   "cell_type": "markdown",
   "id": "4d0554fb-5011-4f39-b92e-815c50a626c7",
   "metadata": {},
   "source": [
    "## Ignoring Checks\n",
    "\n",
    "You may wish to ignore checks on individual files, there are two ways to do this (1) Through a special front-matter field called `mdseo-ignore` or (2) by placing the word `mdseo-ignore-all` in your markdown file.\n",
    "\n",
    "### With Front Matter\n",
    "\n",
    "To ignore a check via front matter, supply the proper value(s) in the `mdseo-ignore` field in your front matter.  For example, if you wanted to ignore the `mdseo_dupe_title` and `mdseo_image` checks in a particular markdown file, you would inject the following front matter:\n",
    "\n",
    "```\n",
    "---\n",
    "mdseo-ignore: [dupe_title, image]\n",
    "---\n",
    "```\n",
    "\n",
    "You can find these values by consulting the help of the appropriate cli command, for example `mdseo_dupe_title -h` says:\n",
    "\n",
    "```\n",
    "... Ignore with front matter `mdseo-ignore:[dupe_title]`\n",
    "```\n",
    "\n",
    "If you want to ignore all seo rules, you can also pass `all` like so:\n",
    "\n",
    "```\n",
    "---\n",
    "mdseo-ignore: all\n",
    "---\n",
    "```\n",
    "\n",
    "### With The Keyword `mdseo-ignore-all`\n",
    "\n",
    "Some markdown files may not have front matter, or it may not be appropriate to add front matter to a file.  In this case you can place the text `mdseo-ignore-all` anywhere in the file and all checks will be ignored, the most common way to add this keyword is with a markdown comment:\n",
    "\n",
    "```\n",
    "<-- mdseo-ignore-all -->\n",
    "```\n"
   ]
  },
  {
   "cell_type": "code",
   "execution_count": null,
   "id": "8e986900-2950-46f4-98d4-e7648a93d7c2",
   "metadata": {},
   "outputs": [],
   "source": []
  }
 ],
 "metadata": {
  "kernelspec": {
   "display_name": "Python 3 (ipykernel)",
   "language": "python",
   "name": "python3"
  }
 },
 "nbformat": 4,
 "nbformat_minor": 5
}
