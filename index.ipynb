{
 "cells": [
  {
   "cell_type": "markdown",
   "id": "f74e414a-6447-489e-ba3d-ae4357c7fd1c",
   "metadata": {},
   "source": [
    "# mdseo\n",
    "\n",
    "> Analyze Markdown Documents Used In Static Sites For SEO"
   ]
  },
  {
   "cell_type": "markdown",
   "id": "1dff66f9-8287-4acd-87ee-9b42f9010348",
   "metadata": {},
   "source": [
    "## Usage\n",
    "\n",
    "`mdseo` provides CLI tools to check various statistics and metadata in markdown files.  If an unwanted property is discovered, and error is raised.  An overview of the CLI tools are below:"
   ]
  },
  {
   "cell_type": "code",
   "execution_count": null,
   "id": "4c8f464b-5c41-466e-91b2-00ac270383f1",
   "metadata": {},
   "outputs": [
    {
     "name": "stdout",
     "output_type": "stream",
     "text": [
      "usage: mdseo_dupe_title [-h] [--srcdir SRCDIR]\n",
      "\n",
      "Check for duplicate titles. Ignore with front matter `mdseo-ignore:\n",
      "[dupe_title]`\n",
      "\n",
      "optional arguments:\n",
      "  -h, --help       show this help message and exit\n",
      "  --srcdir SRCDIR  directory of files to check (default: .)\n"
     ]
    }
   ],
   "source": [
    "!mdseo_dupe_title -h"
   ]
  },
  {
   "cell_type": "code",
   "execution_count": null,
   "id": "9802a378-2978-4fca-8ab8-eb14e2a070ed",
   "metadata": {},
   "outputs": [
    {
     "name": "stdout",
     "output_type": "stream",
     "text": [
      "usage: mdseo_img [-h] [--srcdir SRCDIR]\n",
      "\n",
      "Check if docs do not have the field `image` in their front matter. Ignore with\n",
      "front matter `mdseo-ignore: [image]`\n",
      "\n",
      "optional arguments:\n",
      "  -h, --help       show this help message and exit\n",
      "  --srcdir SRCDIR  directory of files to check (default: .)\n"
     ]
    }
   ],
   "source": [
    "!mdseo_img -h"
   ]
  },
  {
   "cell_type": "code",
   "execution_count": null,
   "id": "c157e7a1-ff36-4945-8fc7-92d63150b5dc",
   "metadata": {},
   "outputs": [
    {
     "name": "stdout",
     "output_type": "stream",
     "text": [
      "usage: mdseo_len [-h] [--srcdir SRCDIR] n\n",
      "\n",
      "Check if docs contain less than `n` words. Ignore with front matter `mdseo-\n",
      "ignore: [length]`\n",
      "\n",
      "positional arguments:\n",
      "  n                minimum number of words a document should contain\n",
      "\n",
      "optional arguments:\n",
      "  -h, --help       show this help message and exit\n",
      "  --srcdir SRCDIR  directory of files to check (default: .)\n"
     ]
    }
   ],
   "source": [
    "!mdseo_len -h"
   ]
  },
  {
   "cell_type": "code",
   "execution_count": null,
   "id": "dbcc6f57-c8dd-4a49-9f36-eb68859e21de",
   "metadata": {},
   "outputs": [
    {
     "name": "stdout",
     "output_type": "stream",
     "text": [
      "usage: mdseo_desc_len [-h] [--n_lower N_LOWER] [--n_upper N_UPPER]\n",
      "                      [--srcdir SRCDIR]\n",
      "\n",
      "Check if docs have a description that is not between `n_lower` and `n_upper`\n",
      "characters. Ignore with front matter `mdseo-ignore: [description]`\n",
      "\n",
      "optional arguments:\n",
      "  -h, --help         show this help message and exit\n",
      "  --n_lower N_LOWER  the lower bound number of characters a document should\n",
      "                     contain (default: 50)\n",
      "  --n_upper N_UPPER  the upper bound number of characters a document should\n",
      "                     contain (default: 300)\n",
      "  --srcdir SRCDIR    directory of files to check (default: .)\n"
     ]
    }
   ],
   "source": [
    "!mdseo_desc_len -h"
   ]
  },
  {
   "cell_type": "markdown",
   "id": "4d0554fb-5011-4f39-b92e-815c50a626c7",
   "metadata": {},
   "source": [
    "## Ignore Checks\n",
    "\n",
    "You may wish to ignore checks on individual files, there are two ways to do this (1) Through a special front-matter field called `mdseo-ignore` or (2) by placing the word `mdseo-ignore-all` in your markdown file.\n",
    "\n",
    "### With Front Matter\n",
    "\n",
    "To ignore a check via front matter, supply the proper value(s) in the `mdseo-ignore` field in your front matter.  For example, if you wanted to ignore the `mdseo_dupe_title` and `mdseo_image` checks in a particular markdown file, you would inject the following front matter:\n",
    "\n",
    "```\n",
    "---\n",
    "mdseo-ignore: [dupe_title, image]\n",
    "---\n",
    "```\n",
    "\n",
    "You can find these values by consulting the help of the appropriate cli command, for example `mdseo_dupe_title -h` says:\n",
    "\n",
    "```\n",
    "... Ignore with front matter `mdseo-ignore:[dupe_title]`\n",
    "```\n",
    "\n",
    "### With The Keyword `mdseo-ignore-all`\n",
    "\n",
    "Some markdown files may not have front matter, or it may not be appropriate to add front matter to a file.  In this case you can place the text `mdseo-ignore-all` anywhere in the file and all checks will be ignored, the most common way to add this keyword is with a markdown comment:\n",
    "\n",
    "```\n",
    "<-- mdseo-ignore-all -->\n",
    "```\n"
   ]
  },
  {
   "cell_type": "code",
   "execution_count": null,
   "id": "8e986900-2950-46f4-98d4-e7648a93d7c2",
   "metadata": {},
   "outputs": [],
   "source": []
  }
 ],
 "metadata": {
  "kernelspec": {
   "display_name": "Python 3 (ipykernel)",
   "language": "python",
   "name": "python3"
  }
 },
 "nbformat": 4,
 "nbformat_minor": 5
}
