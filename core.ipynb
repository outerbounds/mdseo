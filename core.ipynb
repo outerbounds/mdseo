{
 "cells": [
  {
   "cell_type": "code",
   "execution_count": null,
   "id": "a0ef3123-6135-4713-aac0-e99411240d6d",
   "metadata": {},
   "outputs": [],
   "source": [
    "#default_exp core"
   ]
  },
  {
   "cell_type": "markdown",
   "id": "79a70031-a205-4dec-8386-c5f747526a5c",
   "metadata": {},
   "source": [
    "# Inspect Metadata of Markdown Files\n",
    "> Inspect metadata such as front matter, word count, etc. of markdown files."
   ]
  },
  {
   "cell_type": "code",
   "execution_count": null,
   "id": "b8a1d5d1-7151-4f47-a41f-2cee6841727b",
   "metadata": {},
   "outputs": [],
   "source": [
    "#export\n",
    "from fastcore.all import globtastic, Path, merge, L\n",
    "from fastcore.script import call_parse\n",
    "import re\n",
    "import yaml\n",
    "import json\n",
    "import sys\n",
    "from functools import partial\n",
    "from collections import Counter"
   ]
  },
  {
   "cell_type": "code",
   "execution_count": null,
   "id": "56e6f4e8-86ba-41b6-9131-8d4f65687eaf",
   "metadata": {},
   "outputs": [],
   "source": [
    "#hide\n",
    "from fastcore.test import test_eq, test_fail"
   ]
  },
  {
   "cell_type": "code",
   "execution_count": null,
   "id": "a63b376a-1e06-4d01-9df0-58535f5e1de3",
   "metadata": {},
   "outputs": [],
   "source": [
    "#export\n",
    "_re_fm = re.compile(r'^---\\s*(.*?)---\\s*', flags=re.DOTALL)\n",
    "\n",
    "def _load_yml(yml): \n",
    "    if not yml: return {}\n",
    "    else: return yaml.load(yml, Loader=yaml.FullLoader)\n",
    "\n",
    "def get_meta(fname:str):\n",
    "    \"get metadata and front matter from `fname`.\"\n",
    "    txt = Path(fname).read_text()\n",
    "    fm = _re_fm.findall(txt)\n",
    "    fm = _load_yml(fm[0] if fm else {})\n",
    "    fm['mdseo-ignore'] = list(L(fm.get('mdseo-ignore', [])))\n",
    "    clean_txt = re.sub('<[^<]+?>', '', _re_fm.sub('', txt))\n",
    "    ignore = 'all' in fm['mdseo-ignore'] or 'mdseo-ignore-all' in txt\n",
    "    if not ignore:\n",
    "        return merge(dict(fname=fname, \n",
    "                          n_words=len(clean_txt.split())), \n",
    "                     fm)"
   ]
  },
  {
   "cell_type": "code",
   "execution_count": null,
   "id": "93417fdb-6e57-42df-99e6-ca6dbebedc94",
   "metadata": {},
   "outputs": [],
   "source": [
    "assert get_meta('test_files/front_matter2.md')['mdseo-ignore'] == ['title', 'body', 'slug', 'desc']"
   ]
  },
  {
   "cell_type": "code",
   "execution_count": null,
   "id": "d132678e-4db8-4eb5-9f88-e05c74528e2c",
   "metadata": {},
   "outputs": [],
   "source": [
    "test_eq(get_meta('test_files/front_matter_test_docs.md'),\n",
    "        {'fname': 'test_files/front_matter_test_docs.md',\n",
    "         'n_words': 2,\n",
    "         'key2': 'value2',\n",
    "         'slug': 'custom/pathfor/site',\n",
    "         'key': 'value',\n",
    "         'mdseo-ignore': []}\n",
    "       )"
   ]
  },
  {
   "cell_type": "code",
   "execution_count": null,
   "id": "ede4480d-2596-495f-b4fb-d76c90254ea6",
   "metadata": {},
   "outputs": [],
   "source": [
    "#export\n",
    "def meta_list(srcdir:str):\n",
    "    \"Get list of all metadata for markdown files in `srcdir`.\"\n",
    "    docs = globtastic(srcdir, file_glob='*.md', \n",
    "                      skip_folder_re='^[.]',\n",
    "                      skip_file_re='^[_.]')\n",
    "    return docs.map(get_meta).filter()"
   ]
  },
  {
   "cell_type": "code",
   "execution_count": null,
   "id": "c5d39173-8219-4d13-b3ac-91f7fa3317cf",
   "metadata": {},
   "outputs": [],
   "source": [
    "assert len(meta_list('.')) > 1"
   ]
  },
  {
   "cell_type": "code",
   "execution_count": null,
   "id": "31b1ff5f-37a7-45f5-9ce7-22ea3853d9f4",
   "metadata": {},
   "outputs": [],
   "source": [
    "#export\n",
    "def find_dupe(srcdir:str, key):\n",
    "    \"find duplicate values in front matter.\"\n",
    "    c = Counter()\n",
    "    for m in meta_list(srcdir):\n",
    "        if 'dupe_title' in m['mdseo-ignore']: continue\n",
    "        val = m.get(key)\n",
    "        if val: c.update({f'{val}': 1})\n",
    "    \n",
    "    return [el[0] for el in c.items() if el[1] >= 2] if c else []"
   ]
  },
  {
   "cell_type": "code",
   "execution_count": null,
   "id": "548fcb15-a586-45ea-95b5-82d7db6774b2",
   "metadata": {},
   "outputs": [],
   "source": [
    "assert find_dupe('.', 'title')\n",
    "assert not find_dupe('.', 'foo')"
   ]
  },
  {
   "cell_type": "code",
   "execution_count": null,
   "id": "ee9f0403-4548-4e4f-b740-c0193ffbcbf3",
   "metadata": {},
   "outputs": [],
   "source": [
    "#export\n",
    "@call_parse\n",
    "def chk_dupe_title(srcdir:str='.', # directory of files to check\n",
    "                  ):\n",
    "    \"Check for duplicate titles. Ignore with front matter `mdseo-ignore: [dupe_title]`\"\n",
    "    dupes = find_dupe(srcdir, 'title')\n",
    "    msg = '\\n\\t'.join(dupes)\n",
    "    if dupes: raise Exception(f\"The following titles were found in multiple posts:\\n\\t{msg}\")"
   ]
  },
  {
   "cell_type": "code",
   "execution_count": null,
   "id": "59f2b7d8-ff5b-4afd-9521-78a5e0ec4f0f",
   "metadata": {},
   "outputs": [],
   "source": [
    "test_fail(chk_dupe_title)"
   ]
  },
  {
   "cell_type": "code",
   "execution_count": null,
   "id": "0ddbf81c-cf93-4fee-a17a-d04a9b18ac46",
   "metadata": {},
   "outputs": [],
   "source": [
    "#export\n",
    "def _checker(func, msg:str, srcdir:str):\n",
    "    fnames = meta_list(srcdir).filter(func).attrgot('fname')\n",
    "    files = '\\n\\t'.join(fnames)\n",
    "    if fnames: raise Exception(f\"The following files {msg}:\\n\\t{files}\")"
   ]
  },
  {
   "cell_type": "code",
   "execution_count": null,
   "id": "e335555d-979d-44b9-87fe-5c2ce5b20203",
   "metadata": {},
   "outputs": [],
   "source": [
    "#export\n",
    "def _has_no_desc(d): \n",
    "    if 'description' in d['mdseo-ignore'] or 'desc' in d['mdseo-ignore']: return False\n",
    "    else: return 'description' not in d\n",
    "\n",
    "@call_parse\n",
    "def chk_desc(srcdir:str='.', # directory of files to check\n",
    "            ):\n",
    "    \"Check if docs do not have the field `description` in their front matter. Ignore with front matter `mdseo-ignore: [description]`\"\n",
    "    return _checker(_has_no_desc, \"do not have the field `description` in their front matter\", srcdir)\n"
   ]
  },
  {
   "cell_type": "code",
   "execution_count": null,
   "id": "ca58e902-88b6-474d-8cc6-91eb61f71d78",
   "metadata": {},
   "outputs": [],
   "source": [
    "test_fail(chk_desc)"
   ]
  },
  {
   "cell_type": "code",
   "execution_count": null,
   "id": "73daf8d2-04cb-4cb3-93a4-54d79b7f41a7",
   "metadata": {},
   "outputs": [],
   "source": [
    "#export\n",
    "def _has_no_img(d): \n",
    "    if 'image' in d['mdseo-ignore'] or 'img' in d['mdseo-ignore']: return False\n",
    "    return 'image' not in d\n",
    "\n",
    "@call_parse\n",
    "def chk_img(srcdir:str='.', # directory of files to check\n",
    "            ):\n",
    "    \"Check if docs do not have the field `image` in their front matter. Ignore with front matter `mdseo-ignore: [image]`\"\n",
    "    return _checker(_has_no_img, \"do not have the image `description` in their front matter\", srcdir)"
   ]
  },
  {
   "cell_type": "code",
   "execution_count": null,
   "id": "5093ae8e-9c59-4e9a-a31e-c89854d0c632",
   "metadata": {},
   "outputs": [],
   "source": [
    "test_fail(chk_img)"
   ]
  },
  {
   "cell_type": "code",
   "execution_count": null,
   "id": "cb21f54d-a0a6-40fc-9025-d9d6d32fd11a",
   "metadata": {},
   "outputs": [],
   "source": [
    "#export\n",
    "def _lt_n(d, n):\n",
    "    if 'len' in d['mdseo-ignore'] or 'length' in d['mdseo-ignore']: return False\n",
    "    return d['n_words'] < n\n",
    "\n",
    "@call_parse\n",
    "def chk_len(n:int=50, # minimum number of words a document should contain\n",
    "            srcdir:str='.', # directory of files to check \n",
    "           ):\n",
    "    \"Check if docs contain less than `n` words. Ignore with front matter `mdseo-ignore: [length]`\"\n",
    "    return _checker(partial(_lt_n, n=n), \"contain less than 50 words\", srcdir)"
   ]
  },
  {
   "cell_type": "code",
   "execution_count": null,
   "id": "19dc2aea-a1ad-4727-95fd-b616a00214aa",
   "metadata": {},
   "outputs": [],
   "source": [
    "test_fail(chk_len)"
   ]
  },
  {
   "cell_type": "code",
   "execution_count": null,
   "id": "5360dce2-f63f-4fc0-b501-d9db440d402b",
   "metadata": {},
   "outputs": [],
   "source": [
    "#export\n",
    "def _desc_len(d, lower ,upper):\n",
    "    if 'description' in d['mdseo-ignore'] or 'desc' in d['mdseo-ignore']: return False\n",
    "    desc = d.get('description', None)\n",
    "    if desc: return len(desc) < lower or len(desc) > upper\n",
    "    else: return False\n",
    "\n",
    "@call_parse\n",
    "def chk_desc_len(\n",
    "            n_lower:int=50, # the lower bound number of characters a document should contain\n",
    "            n_upper:int=300, # the upper bound number of characters a document should contain\n",
    "            srcdir:str='.', # directory of files to check\n",
    "            ):\n",
    "    \"Check if docs have a description that is not between `n_lower` and `n_upper` characters. Ignore with front matter `mdseo-ignore: [description]`\"\n",
    "    func = partial(_desc_len, lower=n_lower, upper=n_upper)\n",
    "    return _checker(func, f\"have a description that is not between {n_lower} and {n_upper} characters\", srcdir)"
   ]
  },
  {
   "cell_type": "code",
   "execution_count": null,
   "id": "04ef0e7f",
   "metadata": {},
   "outputs": [],
   "source": []
  },
  {
   "cell_type": "code",
   "execution_count": null,
   "id": "e3a53c03-04d1-4e0a-bbf6-b7cb4f78d3da",
   "metadata": {},
   "outputs": [],
   "source": []
  }
 ],
 "metadata": {
  "kernelspec": {
   "display_name": "Python 3 (ipykernel)",
   "language": "python",
   "name": "python3"
  }
 },
 "nbformat": 4,
 "nbformat_minor": 5
}
