{
 "cells": [
  {
   "cell_type": "code",
   "execution_count": null,
   "id": "a0ef3123-6135-4713-aac0-e99411240d6d",
   "metadata": {},
   "outputs": [],
   "source": [
    "#default_exp core"
   ]
  },
  {
   "cell_type": "markdown",
   "id": "79a70031-a205-4dec-8386-c5f747526a5c",
   "metadata": {},
   "source": [
    "# Inspect Metadata of Markdown Files\n",
    "> Inspect metadata such as front matter, word count, etc. of markdown files."
   ]
  },
  {
   "cell_type": "code",
   "execution_count": null,
   "id": "b8a1d5d1-7151-4f47-a41f-2cee6841727b",
   "metadata": {},
   "outputs": [],
   "source": [
    "#export\n",
    "from fastcore.all import globtastic, Path, merge, L, AttrDict, str_enum\n",
    "from fastcore.script import call_parse\n",
    "import re\n",
    "import yaml\n",
    "import json\n",
    "import sys\n",
    "from functools import partial\n",
    "from collections import Counter"
   ]
  },
  {
   "cell_type": "code",
   "execution_count": null,
   "id": "56e6f4e8-86ba-41b6-9131-8d4f65687eaf",
   "metadata": {},
   "outputs": [],
   "source": [
    "#hide\n",
    "from fastcore.test import test_eq, test_fail"
   ]
  },
  {
   "cell_type": "code",
   "execution_count": null,
   "id": "a63b376a-1e06-4d01-9df0-58535f5e1de3",
   "metadata": {},
   "outputs": [],
   "source": [
    "#export\n",
    "_re_fm = re.compile(r'^---\\s*(.*?)---\\s*', flags=re.DOTALL)\n",
    "\n",
    "def _load_yml(yml): \n",
    "    if not yml: return {}\n",
    "    else: return yaml.load(yml, Loader=yaml.FullLoader)\n",
    "\n",
    "def get_meta(fname:str):\n",
    "    \"get metadata and front matter from `fname`.\"\n",
    "    txt = Path(fname).read_text()\n",
    "    fm = _re_fm.findall(txt)\n",
    "    fm = _load_yml(fm[0] if fm else {})\n",
    "    fm['mdseo-ignore'] = list(L(fm.get('mdseo-ignore', [])))\n",
    "    clean_txt = re.sub('<[^<]+?>', '', _re_fm.sub('', txt))\n",
    "    ignore = 'all' in fm['mdseo-ignore'] or 'mdseo-ignore-all' in txt\n",
    "    if not ignore:\n",
    "        return merge(dict(fname=fname, \n",
    "                          n_words=len(clean_txt.split())), \n",
    "                     fm)"
   ]
  },
  {
   "cell_type": "code",
   "execution_count": null,
   "id": "93417fdb-6e57-42df-99e6-ca6dbebedc94",
   "metadata": {},
   "outputs": [],
   "source": [
    "assert get_meta('test_files/front_matter2.md')['mdseo-ignore'] == ['title', 'body', 'desc']"
   ]
  },
  {
   "cell_type": "code",
   "execution_count": null,
   "id": "d132678e-4db8-4eb5-9f88-e05c74528e2c",
   "metadata": {},
   "outputs": [],
   "source": [
    "test_eq(get_meta('test_files/front_matter_test_docs.md'),\n",
    "        {'fname': 'test_files/front_matter_test_docs.md',\n",
    "         'n_words': 2,\n",
    "         'key2': 'value2',\n",
    "         'slug': 'custom/pathfor/site/this-is-waytoolong/wedontwantthis',\n",
    "         'key': 'value',\n",
    "         'mdseo-ignore': []}\n",
    "       )"
   ]
  },
  {
   "cell_type": "code",
   "execution_count": null,
   "id": "ede4480d-2596-495f-b4fb-d76c90254ea6",
   "metadata": {},
   "outputs": [],
   "source": [
    "#export\n",
    "def meta_list(srcdir:str):\n",
    "    \"Get list of all metadata for markdown files in `srcdir`.\"\n",
    "    docs = globtastic(srcdir, file_glob='*.md', \n",
    "                      skip_folder_re='^[.]',\n",
    "                      skip_file_re='^[_.]')\n",
    "    return docs.map(get_meta).filter()"
   ]
  },
  {
   "cell_type": "code",
   "execution_count": null,
   "id": "c5d39173-8219-4d13-b3ac-91f7fa3317cf",
   "metadata": {},
   "outputs": [],
   "source": [
    "assert len(meta_list('.')) > 1"
   ]
  },
  {
   "cell_type": "code",
   "execution_count": null,
   "id": "31b1ff5f-37a7-45f5-9ce7-22ea3853d9f4",
   "metadata": {},
   "outputs": [],
   "source": [
    "#export\n",
    "def find_dupe(srcdir:str, key):\n",
    "    \"find duplicate values in front matter.\"\n",
    "    c = Counter()\n",
    "    for m in meta_list(srcdir):\n",
    "        if 'dupe_title' in m['mdseo-ignore']: continue\n",
    "        val = m.get(key)\n",
    "        if val: c.update({f'{val}': 1})\n",
    "    \n",
    "    return [el[0] for el in c.items() if el[1] >= 2] if c else []"
   ]
  },
  {
   "cell_type": "code",
   "execution_count": null,
   "id": "548fcb15-a586-45ea-95b5-82d7db6774b2",
   "metadata": {},
   "outputs": [],
   "source": [
    "assert find_dupe('.', 'title')\n",
    "assert not find_dupe('.', 'foo')"
   ]
  },
  {
   "cell_type": "code",
   "execution_count": null,
   "id": "ee9f0403-4548-4e4f-b740-c0193ffbcbf3",
   "metadata": {},
   "outputs": [],
   "source": [
    "#export\n",
    "@call_parse\n",
    "def chk_dupe_title(srcdir:str='.', # directory of files to check\n",
    "                  ):\n",
    "    \"Check for duplicate titles. Ignore with front matter `mdseo-ignore: [dupe_title]`\"\n",
    "    dupes = find_dupe(srcdir, 'title')\n",
    "    msg = '\\n\\t'.join(dupes)\n",
    "    if dupes: raise Exception(f\"The following titles were found in multiple posts:\\n\\t{msg}\")"
   ]
  },
  {
   "cell_type": "code",
   "execution_count": null,
   "id": "59f2b7d8-ff5b-4afd-9521-78a5e0ec4f0f",
   "metadata": {},
   "outputs": [],
   "source": [
    "test_fail(chk_dupe_title)"
   ]
  },
  {
   "cell_type": "code",
   "execution_count": null,
   "id": "5739af98-e915-4fe1-846f-2b6dfd28f34b",
   "metadata": {},
   "outputs": [],
   "source": [
    "#export\n",
    "alias_map = {'description':['desc'],\n",
    "             'slug': [],\n",
    "             'image': ['img'],\n",
    "             'authors': ['author']}\n",
    "_en = str_enum('_en', *alias_map.keys())"
   ]
  },
  {
   "cell_type": "code",
   "execution_count": null,
   "id": "e4804019-535d-4076-ac15-5129a34d78ec",
   "metadata": {},
   "outputs": [],
   "source": [
    "#export\n",
    "def _intersect(d, key): return set(d['mdseo-ignore']).intersection(set(alias_map.get(key, []) + [key]))\n",
    "\n",
    "def _missing_fm(d, key):\n",
    "    if _intersect(d, key): return False\n",
    "    else: return key not in d"
   ]
  },
  {
   "cell_type": "code",
   "execution_count": null,
   "id": "41096e3d-0988-456c-8897-e3de5443818f",
   "metadata": {},
   "outputs": [
    {
     "data": {
      "text/plain": [
       "{'fname': 'test_files/front_matter2.md',\n",
       " 'n_words': 0,\n",
       " 'key2': 'value2',\n",
       " 'slug': 'custom/pathfor/site',\n",
       " 'key': 'value',\n",
       " 'title': 'a title is here',\n",
       " 'mdseo-ignore': ['title', 'body', 'desc']}"
      ]
     },
     "execution_count": null,
     "metadata": {},
     "output_type": "execute_result"
    }
   ],
   "source": [
    "#hide\n",
    "_test_fm = get_meta('test_files/front_matter2.md')\n",
    "_test_fm"
   ]
  },
  {
   "cell_type": "code",
   "execution_count": null,
   "id": "c522922d-f735-4709-a3ec-ac724eec23c4",
   "metadata": {},
   "outputs": [],
   "source": [
    "#hide\n",
    "assert _intersect(_test_fm, 'description')\n",
    "assert not _missing_fm(_test_fm, 'description') # this is in mdseo-ignore so its not considered missing\n",
    "assert _missing_fm(_test_fm, 'authors')"
   ]
  },
  {
   "cell_type": "code",
   "execution_count": null,
   "id": "3fa3ad7b-5b33-4006-a986-8b371f031a1e",
   "metadata": {},
   "outputs": [],
   "source": [
    "#export\n",
    "def _min_len_err(d, key, n):\n",
    "    if _intersect(d, key): return False\n",
    "    # Return true if it is less than n length. Ignore with front matter `mdseo-ignore: [chk_fm slug]`.\n",
    "    else: return key in d and not f\"chk_fm {key}\" in d[\"mdseo-ignore\"] and len(d[key]) < n \n",
    "\n",
    "def _max_len_err(d, key, n):\n",
    "    if _intersect(d, key): return False\n",
    "    # Return true if greater than n length. Ignore with front matter `mdseo-ignore: [chk_fm slug]`.\n",
    "    else: return key in d and not f\"chk_fm {key}\" in d[\"mdseo-ignore\"] and len(d[key]) > n \n",
    "\n",
    "def _checker(func, msg:str, srcdir:str):\n",
    "    fnames = meta_list(srcdir).filter(func).attrgot('fname')\n",
    "    files = '\\n\\t'.join(fnames)\n",
    "    if fnames: raise Exception(f\"The following files {msg}:\\n\\t{files}\")"
   ]
  },
  {
   "cell_type": "code",
   "execution_count": null,
   "id": "7be8b234",
   "metadata": {},
   "outputs": [],
   "source": [
    "key = \"slug\"\n",
    "maxlen = 60\n",
    "srcdir = \"/Users/eddie/Dev/outerbounds-docs/docs\"\n",
    "\n",
    "_checker(\n",
    "    partial(_max_len_err, key=key, n=maxlen), \n",
    "    f\"have the field `{key}` in their front matter that is greater than {maxlen} characters\", srcdir\n",
    ")"
   ]
  },
  {
   "cell_type": "code",
   "execution_count": null,
   "id": "2510d524-290e-44e9-b02e-3b6577f7195e",
   "metadata": {},
   "outputs": [],
   "source": [
    "assert not _min_len_err(_test_fm, 'description', 10000) #this is in mdeseo-ignore so rule is ignored\n",
    "assert not _min_len_err(_test_fm, 'image', 10) # this key doesn't exist\n",
    "\n",
    "assert len(_test_fm['slug']) == 19\n",
    "\n",
    "assert _min_len_err(_test_fm, 'slug', 500) # 50 > 5\n",
    "assert _max_len_err(_test_fm, 'slug', 5) # 19 > 5\n",
    "\n",
    "\n",
    "assert not _min_len_err(_test_fm, 'slug', 5)\n",
    "assert not _max_len_err(_test_fm, 'slug', 39)\n",
    "\n",
    "_test_ignore_short_slug_fm = get_meta('test_files/front_matter_ignore_short_slug.md')\n",
    "_test_ignore_long_slug_fm = get_meta('test_files/front_matter_ignore_long_slug.md')\n",
    "\n",
    "n = 10\n",
    "assert len(_test_ignore_short_slug_fm['slug']) < n\n",
    "assert not _min_len_err(_test_ignore_short_slug_fm, 'slug', n)\n",
    "_test_ignore_short_slug_fm['mdseo-ignore'] = []\n",
    "assert _min_len_err(_test_ignore_short_slug_fm, 'slug', n)\n",
    "\n",
    "n = 60\n",
    "assert len(_test_ignore_long_slug_fm['slug']) > n\n",
    "assert not _max_len_err(_test_ignore_long_slug_fm, 'slug', n)\n",
    "_test_ignore_long_slug_fm['mdseo-ignore'] = []\n",
    "assert _max_len_err(_test_ignore_long_slug_fm, 'slug', n)"
   ]
  },
  {
   "cell_type": "code",
   "execution_count": null,
   "id": "3c166b8a-e8c3-4aba-b726-b076affb2afd",
   "metadata": {},
   "outputs": [
    {
     "data": {
      "text/plain": [
       "True"
      ]
     },
     "execution_count": null,
     "metadata": {},
     "output_type": "execute_result"
    }
   ],
   "source": [
    "hasattr(_en, 'authors')"
   ]
  },
  {
   "cell_type": "code",
   "execution_count": null,
   "id": "bf130cc9-3fb3-4010-b8ac-1d317bb47d64",
   "metadata": {},
   "outputs": [],
   "source": [
    "#export\n",
    "@call_parse\n",
    "def chk_fm(key:_en, # front matter field to check\n",
    "           srcdir:str='.', # directory of files to check\n",
    "           minlen:int=None, #the minimum character length allowed for the field\n",
    "           maxlen:int=None  #the maximum character length allowed for the field\n",
    "          ):\n",
    "    '''\n",
    "    Check front matter for various rules.\n",
    "    Ignore with front matter `mdseo-ignore: [chk_fm <key>]` - e.g. `mdseo-ignore: [chk_fm slug]`.\n",
    "        Filtering happens in `_max_len_err` and `_min_len_err`. \n",
    "    '''\n",
    "    if not hasattr(_en, key): raise Exception(f'No rule exists for {key}')\n",
    "    if minlen:\n",
    "        return _checker(partial(_min_len_err, key=key, n=minlen), \n",
    "                        f\"have the field `{key}` in their front matter that is less than {minlen} characters\", srcdir)\n",
    "    elif maxlen:\n",
    "        return _checker(partial(_max_len_err, key=key, n=maxlen), \n",
    "                        f\"have the field `{key}` in their front matter that is greater than {maxlen} characters\", srcdir)\n",
    "    \n",
    "    _checker(partial(_missing_fm, key=key), f\"do not have the field `{key}` in their front matter\", srcdir)"
   ]
  },
  {
   "cell_type": "code",
   "execution_count": null,
   "id": "339938b2-4b2f-4818-be22-c30204ce3424",
   "metadata": {},
   "outputs": [],
   "source": [
    "test_fail(partial(chk_fm, key='description'))\n",
    "test_fail(partial(chk_fm, key='authors'))"
   ]
  },
  {
   "cell_type": "code",
   "execution_count": null,
   "id": "cb21f54d-a0a6-40fc-9025-d9d6d32fd11a",
   "metadata": {},
   "outputs": [],
   "source": [
    "#export\n",
    "def _lt_n(d, n):\n",
    "    if 'len' in d['mdseo-ignore'] or 'length' in d['mdseo-ignore']: return False\n",
    "    return d['n_words'] < n\n",
    "\n",
    "@call_parse\n",
    "def chk_len(n:int=50, # minimum number of words a document should contain\n",
    "            srcdir:str='.', # directory of files to check \n",
    "           ):\n",
    "    \"Check if docs contain less than `n` words. Ignore with front matter `mdseo-ignore: [length]`\"\n",
    "    return _checker(partial(_lt_n, n=n), \"contain less than 50 words\", srcdir)"
   ]
  },
  {
   "cell_type": "code",
   "execution_count": null,
   "id": "19dc2aea-a1ad-4727-95fd-b616a00214aa",
   "metadata": {},
   "outputs": [],
   "source": [
    "test_fail(chk_len)"
   ]
  }
 ],
 "metadata": {
  "kernelspec": {
   "display_name": "Python 3 (ipykernel)",
   "language": "python",
   "name": "python3"
  }
 },
 "nbformat": 4,
 "nbformat_minor": 5
}
